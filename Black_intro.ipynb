{
 "cells": [
  {
   "cell_type": "markdown",
   "id": "a6951667",
   "metadata": {},
   "source": [
    "# Notebook Intro"
   ]
  },
  {
   "cell_type": "markdown",
   "id": "4a94f7ab",
   "metadata": {},
   "source": [
    "## Louise Black"
   ]
  },
  {
   "cell_type": "code",
   "execution_count": 11,
   "id": "91510899",
   "metadata": {
    "tags": []
   },
   "outputs": [
    {
     "name": "stdout",
     "output_type": "stream",
     "text": [
      "[95, 50, 97, 77, 75, 70, 48, 74, 40, 47, 75, 67, 38, 83, 97, 78, 86, 89, 67, 62, 77, 78, 48, 87, 33, 72, 74, 74, 87, 96, 88, 62, 87, 90, 39, 95, 98, 51, 68, 60]\n"
     ]
    }
   ],
   "source": [
    "import random\n",
    "nums = [random.randint(30, 100) for _ in range(40)]\n",
    "print(nums)"
   ]
  },
  {
   "cell_type": "code",
   "execution_count": 12,
   "id": "91634685-2bd4-4440-a38d-ac2663210ab0",
   "metadata": {
    "tags": []
   },
   "outputs": [
    {
     "name": "stdout",
     "output_type": "stream",
     "text": [
      "33 38 39 40 47 48 48 50 51 60 62 62 67 67 68 70 72 74 74 74 75 75 77 77 78 78 83 86 87 87 87 88 89 90 95 95 96 97 97 98 "
     ]
    }
   ],
   "source": [
    "nums = sorted(nums)\n",
    "\n",
    "for num in nums:\n",
    "    print(num, end=' ')"
   ]
  },
  {
   "cell_type": "markdown",
   "id": "79fc9d1b-038e-4fc6-b7f9-0189ba889054",
   "metadata": {},
   "source": [
    "## The Sample Mean\n",
    "Add up all of the values in the data set"
   ]
  },
  {
   "cell_type": "markdown",
   "id": "a968193a",
   "metadata": {},
   "source": [
    "Divide the total by the amount of values in the data set"
   ]
  },
  {
   "cell_type": "markdown",
   "id": "a0911078",
   "metadata": {
    "tags": [
     "\"equation\""
    ]
   },
   "source": [
    "$ \\overline{x} = \\frac{\\sum x_i}{n} $"
   ]
  },
  {
   "cell_type": "code",
   "execution_count": 13,
   "id": "94ec7138",
   "metadata": {},
   "outputs": [
    {
     "name": "stdout",
     "output_type": "stream",
     "text": [
      "71.97\n"
     ]
    }
   ],
   "source": [
    "sample_mean = sum(nums) / len(nums)\n",
    "print(f'{sample_mean:.2f}')"
   ]
  },
  {
   "cell_type": "markdown",
   "id": "5ce3095b-e6ad-4a46-8319-059668fb7bd9",
   "metadata": {},
   "source": [
    "## The Median"
   ]
  },
  {
   "cell_type": "markdown",
   "id": "a05c697e-b2cd-4168-a6ec-87118790809d",
   "metadata": {
    "tags": []
   },
   "source": [
    "[Statistical Median](https://www.investopedia.com/terms/m/median.asp)"
   ]
  },
  {
   "cell_type": "markdown",
   "id": "6694ce44-1a3b-42d6-a32d-5b74a52301a3",
   "metadata": {},
   "source": [
    "Arrange in ascending order, determine the two middle values, add the two values together, and divide by 2 to get the median."
   ]
  },
  {
   "cell_type": "code",
   "execution_count": 14,
   "id": "df8b8978-32c6-4b06-9d5d-9c049159220b",
   "metadata": {
    "tags": []
   },
   "outputs": [
    {
     "name": "stdout",
     "output_type": "stream",
     "text": [
      "74.5\n"
     ]
    }
   ],
   "source": [
    "import statistics\n",
    "median = statistics.median(nums)\n",
    "print(f'{median:.1f}')"
   ]
  }
 ],
 "metadata": {
  "kernelspec": {
   "display_name": "Python 3 (ipykernel)",
   "language": "python",
   "name": "python3"
  },
  "language_info": {
   "codemirror_mode": {
    "name": "ipython",
    "version": 3
   },
   "file_extension": ".py",
   "mimetype": "text/x-python",
   "name": "python",
   "nbconvert_exporter": "python",
   "pygments_lexer": "ipython3",
   "version": "3.11.5"
  }
 },
 "nbformat": 4,
 "nbformat_minor": 5
}
